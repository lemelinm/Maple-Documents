{
 "cells": [
  {
   "cell_type": "markdown",
   "id": "c6335f83",
   "metadata": {},
   "source": [
    "Today, we will use Python to analytically solve one of the most important partial differential equations out there, the diffusion equation. It is a fundamental equation that arises in many areas of physics, chemistry, biology, and engineering, and has an enormous range of applications. For instance, in physics, the diffusion equation is used to describe the movement of heat through a solid or fluid, as well as the transport of particles in gases and liquids. Also, the Schrödinger equation is (in principle) a kind of diffusion equation. In biology, the diffusion equation is used to study the movement of nutrients and other substances through living tissues, as well as the spread of diseases. In engineering, the diffusion equation is used to design and optimize processes such as heat exchangers, catalytic converters, and solar cells. It is even applied in economics, where the diffusion equation can be used to model the spread of ideas or innovations through a population. Due to its wide range of applications, it is not surprising that it was found independently by several scientists of the 19th century working on completely different topics. The famous George Gabriel Stokes derived the equation in 1845 to describe the motion of fluids, while the even more famous James Clerk Maxwell derived the equation in 1860 to describe the motion of heat.\n",
    "\n",
    "The equation is given by:\n",
    "\n",
    "$$ \\alpha^2 \\space \\frac{\\partial \\space u}{\\partial t} = \\nabla ^2 u$$\n",
    "\n",
    "which is in fact:\n",
    "\n",
    "$$ \\alpha^2 \\space \\frac{\\partial \\space u(t,x)}{\\partial t} = \\frac{\\partial^2 \\space u(t,x)}{\\partial x^2}  $$\n",
    "\n",
    "where t is time, 𝛼 a constant, and ∇² is the Laplacian operator. For concreteness, we will solve the following example application. We have a 10cm long bar with insulated sides initially at 100° everywhere. Starting at 𝑡=0, the ends are held at temperature 0°. Our task is to find the temperature distribution at some later time 𝑡.\n",
    "\n",
    "The method we will use is the separation of variables, i.e. we use the ansatz\n",
    "\n",
    "$$  u = X(x) \\space T(t)$$\n",
    "\n",
    "where 𝑇 and 𝑋 are functions of a single variable 𝑡 and 𝑥, respectively. Start a new Jupyter notebook and define the symbols for our problem:"
   ]
  },
  {
   "cell_type": "code",
   "execution_count": 1,
   "id": "bd01b1ab",
   "metadata": {},
   "outputs": [],
   "source": [
    "from sympy import *\n",
    "\n",
    "t, x, 𝛼 = symbols(r\"t, x, \\alpha\")\n",
    "\n",
    "u, T, X = symbols(\"u, T, X\", cls=Function)\n",
    "\n",
    "u = u(t, x)\n",
    "T = T(t)\n",
    "X = X(x)\n",
    "\n",
    "EQ0 = Eq( 𝛼**2*diff(u,t),diff(u, (x,2)))"
   ]
  },
  {
   "cell_type": "code",
   "execution_count": 2,
   "id": "51bb2030",
   "metadata": {},
   "outputs": [
    {
     "data": {
      "text/latex": [
       "$\\displaystyle \\alpha^{2} \\frac{\\partial}{\\partial t} u{\\left(t,x \\right)} = \\frac{\\partial^{2}}{\\partial x^{2}} u{\\left(t,x \\right)}$"
      ],
      "text/plain": [
       "Eq(\\alpha**2*Derivative(u(t, x), t), Derivative(u(t, x), (x, 2)))"
      ]
     },
     "execution_count": 2,
     "metadata": {},
     "output_type": "execute_result"
    }
   ],
   "source": [
    "EQ0"
   ]
  },
  {
   "cell_type": "markdown",
   "id": "446ac49e",
   "metadata": {},
   "source": [
    "Insert the separation ansatz:"
   ]
  },
  {
   "cell_type": "code",
   "execution_count": 3,
   "id": "7bf09c9f",
   "metadata": {},
   "outputs": [
    {
     "data": {
      "text/latex": [
       "$\\displaystyle \\alpha^{2} X{\\left(x \\right)} \\frac{d}{d t} T{\\left(t \\right)} = T{\\left(t \\right)} \\frac{d^{2}}{d x^{2}} X{\\left(x \\right)}$"
      ],
      "text/plain": [
       "Eq(\\alpha**2*X(x)*Derivative(T(t), t), T(t)*Derivative(X(x), (x, 2)))"
      ]
     },
     "execution_count": 3,
     "metadata": {},
     "output_type": "execute_result"
    }
   ],
   "source": [
    "EQ0.subs(u, T*X).doit()"
   ]
  },
  {
   "cell_type": "code",
   "execution_count": 4,
   "id": "52aed00b",
   "metadata": {},
   "outputs": [
    {
     "data": {
      "text/latex": [
       "$\\displaystyle \\frac{\\alpha^{2} \\frac{d}{d t} T{\\left(t \\right)}}{T{\\left(t \\right)}} = \\frac{\\frac{d^{2}}{d x^{2}} X{\\left(x \\right)}}{X{\\left(x \\right)}}$"
      ],
      "text/plain": [
       "Eq(\\alpha**2*Derivative(T(t), t)/T(t), Derivative(X(x), (x, 2))/X(x))"
      ]
     },
     "execution_count": 4,
     "metadata": {},
     "output_type": "execute_result"
    }
   ],
   "source": [
    "Eq( _.lhs / (T*X), _.rhs / (T*X))"
   ]
  },
  {
   "cell_type": "code",
   "execution_count": 5,
   "id": "725c926b",
   "metadata": {},
   "outputs": [],
   "source": [
    "EQ1 = _"
   ]
  },
  {
   "cell_type": "markdown",
   "id": "8edd7f9f",
   "metadata": {},
   "source": [
    "The key observation here is that the left side depends only on t, whereas the right side depends only on x. So, when you change 𝑡, only the left side changes but not the right side. Conversely, if you change 𝑥, the right side changes, but not the left side. The only way how this can be true is that both sides are equal to a constant. Let’s call that constant −𝑘²:"
   ]
  },
  {
   "cell_type": "code",
   "execution_count": 6,
   "id": "8f9c53b8",
   "metadata": {},
   "outputs": [
    {
     "data": {
      "text/latex": [
       "$\\displaystyle \\frac{\\alpha^{2} \\frac{d}{d t} T{\\left(t \\right)}}{T{\\left(t \\right)}} = - k^{2}$"
      ],
      "text/plain": [
       "Eq(\\alpha**2*Derivative(T(t), t)/T(t), -k**2)"
      ]
     },
     "execution_count": 6,
     "metadata": {},
     "output_type": "execute_result"
    }
   ],
   "source": [
    "k = Symbol(\"k\")\n",
    "\n",
    "Eq( EQ1.lhs, -k**2 )"
   ]
  },
  {
   "cell_type": "markdown",
   "id": "5653f044",
   "metadata": {},
   "source": [
    "This is just an ordinary differential equation that we can easily solve:"
   ]
  },
  {
   "cell_type": "code",
   "execution_count": 7,
   "id": "fe88ac9f",
   "metadata": {},
   "outputs": [
    {
     "data": {
      "text/latex": [
       "$\\displaystyle T{\\left(t \\right)} = C_{1} e^{- \\frac{k^{2} t}{\\alpha^{2}}}$"
      ],
      "text/plain": [
       "Eq(T(t), C1*exp(-k**2*t/\\alpha**2))"
      ]
     },
     "execution_count": 7,
     "metadata": {},
     "output_type": "execute_result"
    }
   ],
   "source": [
    "k = Symbol(\"k\")\n",
    "\n",
    "Eq( EQ1.lhs, -k**2 )"
   ]
  },
  {
   "cell_type": "markdown",
   "id": "6f674cf9",
   "metadata": {},
   "source": [
    "Now focus on the side of the separated equation:"
   ]
  },
  {
   "cell_type": "code",
   "execution_count": 8,
   "id": "5caa8653",
   "metadata": {},
   "outputs": [
    {
     "data": {
      "text/latex": [
       "$\\displaystyle \\frac{\\frac{d^{2}}{d x^{2}} X{\\left(x \\right)}}{X{\\left(x \\right)}} = - k^{2}$"
      ],
      "text/plain": [
       "Eq(Derivative(X(x), (x, 2))/X(x), -k**2)"
      ]
     },
     "execution_count": 8,
     "metadata": {},
     "output_type": "execute_result"
    }
   ],
   "source": [
    "Eq( EQ1.rhs, -k**2 )"
   ]
  },
  {
   "cell_type": "markdown",
   "id": "4c7029b9",
   "metadata": {},
   "source": [
    "Again, a simple ODE:"
   ]
  },
  {
   "cell_type": "code",
   "execution_count": 9,
   "id": "4aa6dddb",
   "metadata": {},
   "outputs": [
    {
     "data": {
      "text/latex": [
       "$\\displaystyle X{\\left(x \\right)} = C_{1} e^{- i k x} + C_{2} e^{i k x}$"
      ],
      "text/plain": [
       "Eq(X(x), C1*exp(-I*k*x) + C2*exp(I*k*x))"
      ]
     },
     "execution_count": 9,
     "metadata": {},
     "output_type": "execute_result"
    }
   ],
   "source": [
    "sol_X = dsolve(_, X)\n",
    "sol_X"
   ]
  },
  {
   "cell_type": "markdown",
   "id": "292067ec",
   "metadata": {},
   "source": [
    "Hmmm… sympy uses the same names of the constants of integration, so we get a name clash. Let’s rename the constants:"
   ]
  },
  {
   "cell_type": "code",
   "execution_count": 10,
   "id": "358341fb",
   "metadata": {},
   "outputs": [],
   "source": [
    "C1, C2, A, B, C = symbols(\"C1, C2, A, B, C\")\n",
    "\n",
    "sol_T = sol_T.subs(C1, C)\n",
    "sol_X = sol_X.subs({C1: A, C2: B})"
   ]
  },
  {
   "cell_type": "code",
   "execution_count": 11,
   "id": "3e8abb0b",
   "metadata": {},
   "outputs": [
    {
     "data": {
      "text/latex": [
       "$\\displaystyle T{\\left(t \\right)} = C e^{- \\frac{k^{2} t}{\\alpha^{2}}}$"
      ],
      "text/plain": [
       "Eq(T(t), C*exp(-k**2*t/\\alpha**2))"
      ]
     },
     "execution_count": 11,
     "metadata": {},
     "output_type": "execute_result"
    }
   ],
   "source": [
    "sol_T"
   ]
  },
  {
   "cell_type": "code",
   "execution_count": 12,
   "id": "1f6870f1",
   "metadata": {},
   "outputs": [
    {
     "data": {
      "text/latex": [
       "$\\displaystyle X{\\left(x \\right)} = A e^{- i k x} + B e^{i k x}$"
      ],
      "text/plain": [
       "Eq(X(x), A*exp(-I*k*x) + B*exp(I*k*x))"
      ]
     },
     "execution_count": 12,
     "metadata": {},
     "output_type": "execute_result"
    }
   ],
   "source": [
    "sol_X"
   ]
  },
  {
   "cell_type": "markdown",
   "id": "2652be75",
   "metadata": {},
   "source": [
    "Since the exponentials are complex, it’s more convenient to have that in terms of sines and cosines, so we can rewrite that:"
   ]
  },
  {
   "cell_type": "code",
   "execution_count": 13,
   "id": "6c55eb0f",
   "metadata": {},
   "outputs": [
    {
     "data": {
      "text/latex": [
       "$\\displaystyle A \\left(- i \\sin{\\left(k x \\right)} + \\cos{\\left(k x \\right)}\\right) + B \\left(i \\sin{\\left(k x \\right)} + \\cos{\\left(k x \\right)}\\right)$"
      ],
      "text/plain": [
       "A*(-I*sin(k*x) + cos(k*x)) + B*(I*sin(k*x) + cos(k*x))"
      ]
     },
     "execution_count": 13,
     "metadata": {},
     "output_type": "execute_result"
    }
   ],
   "source": [
    "sol_X.rhs.rewrite(sin)"
   ]
  },
  {
   "cell_type": "code",
   "execution_count": 14,
   "id": "ab61f94a",
   "metadata": {},
   "outputs": [
    {
     "data": {
      "text/latex": [
       "$\\displaystyle - i A \\sin{\\left(k x \\right)} + A \\cos{\\left(k x \\right)} + i B \\sin{\\left(k x \\right)} + B \\cos{\\left(k x \\right)}$"
      ],
      "text/plain": [
       "-I*A*sin(k*x) + A*cos(k*x) + I*B*sin(k*x) + B*cos(k*x)"
      ]
     },
     "execution_count": 14,
     "metadata": {},
     "output_type": "execute_result"
    }
   ],
   "source": [
    "_.expand()"
   ]
  },
  {
   "cell_type": "code",
   "execution_count": 15,
   "id": "f253d8a7",
   "metadata": {},
   "outputs": [
    {
     "data": {
      "text/latex": [
       "$\\displaystyle \\left(A + B\\right) \\cos{\\left(k x \\right)} + \\left(- i A + i B\\right) \\sin{\\left(k x \\right)}$"
      ],
      "text/plain": [
       "(A + B)*cos(k*x) + (-I*A + I*B)*sin(k*x)"
      ]
     },
     "execution_count": 15,
     "metadata": {},
     "output_type": "execute_result"
    }
   ],
   "source": [
    "collect(_,[sin(k*x), cos(k*x)])"
   ]
  },
  {
   "cell_type": "markdown",
   "id": "51e9b420",
   "metadata": {},
   "source": [
    "The coefficients are independent, so we can simply give new names to them:"
   ]
  },
  {
   "cell_type": "code",
   "execution_count": 16,
   "id": "56452189",
   "metadata": {},
   "outputs": [
    {
     "data": {
      "text/latex": [
       "$\\displaystyle A \\sin{\\left(k x \\right)} + B \\cos{\\left(k x \\right)}$"
      ],
      "text/plain": [
       "A*sin(k*x) + B*cos(k*x)"
      ]
     },
     "execution_count": 16,
     "metadata": {},
     "output_type": "execute_result"
    }
   ],
   "source": [
    "_.replace(A + B, B).replace(-I*A + I*B, A)"
   ]
  },
  {
   "cell_type": "code",
   "execution_count": 17,
   "id": "686f312a",
   "metadata": {},
   "outputs": [
    {
     "data": {
      "text/latex": [
       "$\\displaystyle X{\\left(x \\right)} = A \\sin{\\left(k x \\right)} + B \\cos{\\left(k x \\right)}$"
      ],
      "text/plain": [
       "Eq(X(x), A*sin(k*x) + B*cos(k*x))"
      ]
     },
     "execution_count": 17,
     "metadata": {},
     "output_type": "execute_result"
    }
   ],
   "source": [
    "sol_X = Eq(X, _)\n",
    "sol_X"
   ]
  },
  {
   "cell_type": "markdown",
   "id": "f8514571",
   "metadata": {},
   "source": [
    "And that’s the form we will work with.\n",
    "\n",
    "Now consider the first boundary conditions at 𝑥=0. This gives a value for the constant 𝐵:"
   ]
  },
  {
   "cell_type": "code",
   "execution_count": 18,
   "id": "e1e0fd01",
   "metadata": {},
   "outputs": [
    {
     "data": {
      "text/latex": [
       "$\\displaystyle B = 0$"
      ],
      "text/plain": [
       "Eq(B, 0)"
      ]
     },
     "execution_count": 18,
     "metadata": {},
     "output_type": "execute_result"
    }
   ],
   "source": [
    "Eq( sol_X.rhs.subs(x, 0), 0)"
   ]
  },
  {
   "cell_type": "code",
   "execution_count": 19,
   "id": "78668305",
   "metadata": {},
   "outputs": [
    {
     "data": {
      "text/latex": [
       "$\\displaystyle X{\\left(x \\right)} = A \\sin{\\left(k x \\right)}$"
      ],
      "text/plain": [
       "Eq(X(x), A*sin(k*x))"
      ]
     },
     "execution_count": 19,
     "metadata": {},
     "output_type": "execute_result"
    }
   ],
   "source": [
    "sol_X = sol_X.subs(B, 0)\n",
    "sol_X"
   ]
  },
  {
   "cell_type": "markdown",
   "id": "5813b88a",
   "metadata": {},
   "source": [
    "The other boundary condition gives a constraint on 𝑘:"
   ]
  },
  {
   "cell_type": "code",
   "execution_count": 20,
   "id": "656ce3c6",
   "metadata": {},
   "outputs": [
    {
     "data": {
      "text/latex": [
       "$\\displaystyle A \\sin{\\left(L k \\right)} = 0$"
      ],
      "text/plain": [
       "Eq(A*sin(L*k), 0)"
      ]
     },
     "execution_count": 20,
     "metadata": {},
     "output_type": "execute_result"
    }
   ],
   "source": [
    "L = Symbol(\"L\", real=True, positive=True)\n",
    "\n",
    "Eq( sol_X.rhs.subs(x,L), 0)"
   ]
  },
  {
   "cell_type": "code",
   "execution_count": 21,
   "id": "52aa07bd",
   "metadata": {},
   "outputs": [
    {
     "data": {
      "text/latex": [
       "$\\displaystyle L k = \\pi n$"
      ],
      "text/plain": [
       "Eq(L*k, pi*n)"
      ]
     },
     "execution_count": 21,
     "metadata": {},
     "output_type": "execute_result"
    }
   ],
   "source": [
    "n = Symbol(\"n\", Integer=True, positive=True)\n",
    "\n",
    "Eq( L*k, n*pi )"
   ]
  },
  {
   "cell_type": "code",
   "execution_count": 22,
   "id": "e1e95f9a",
   "metadata": {},
   "outputs": [
    {
     "data": {
      "text/plain": [
       "[pi*n/L]"
      ]
     },
     "execution_count": 22,
     "metadata": {},
     "output_type": "execute_result"
    }
   ],
   "source": [
    "solve(_, k)"
   ]
  },
  {
   "cell_type": "code",
   "execution_count": 23,
   "id": "82d4cee5",
   "metadata": {},
   "outputs": [
    {
     "data": {
      "text/latex": [
       "$\\displaystyle X{\\left(x \\right)} = A \\sin{\\left(\\frac{\\pi n x}{L} \\right)}$"
      ],
      "text/plain": [
       "Eq(X(x), A*sin(pi*n*x/L))"
      ]
     },
     "execution_count": 23,
     "metadata": {},
     "output_type": "execute_result"
    }
   ],
   "source": [
    "sol_X = sol_X.subs(k, _[0] )\n",
    "sol_X"
   ]
  },
  {
   "cell_type": "markdown",
   "id": "9f59be15",
   "metadata": {},
   "source": [
    "Now we can assemble a solution from our base solutions."
   ]
  },
  {
   "cell_type": "code",
   "execution_count": 24,
   "id": "567b5d6f",
   "metadata": {},
   "outputs": [
    {
     "data": {
      "text/latex": [
       "$\\displaystyle u{\\left(t,x \\right)} = \\sum_{n=1}^{\\infty} e^{- \\frac{\\pi^{2} n^{2} t}{L^{2} \\alpha^{2}}} \\sin{\\left(\\frac{\\pi n x}{L} \\right)} {a}_{n}$"
      ],
      "text/plain": [
       "Eq(u(t, x), Sum(exp(-pi**2*n**2*t/(L**2*\\alpha**2))*sin(pi*n*x/L)*a[n], (n, 1, oo)))"
      ]
     },
     "execution_count": 24,
     "metadata": {},
     "output_type": "execute_result"
    }
   ],
   "source": [
    "a = IndexedBase(\"a\")\n",
    "\n",
    "sol_u = Eq( u, Sum( sol_T.rhs.subs({C:1, k: __[0]}) * sol_X.rhs.subs(A, a[n]), (n, 1, oo)) )\n",
    "sol_u"
   ]
  },
  {
   "cell_type": "markdown",
   "id": "26cc60b0",
   "metadata": {},
   "source": [
    "where we have absorbed the coefficient 𝐶 into the new coefficients 𝑎_𝑛.\n",
    "\n",
    "But this must still satisfy the initial condition, which we haven’t evaluated yet. So do that now:"
   ]
  },
  {
   "cell_type": "code",
   "execution_count": 25,
   "id": "41c76a36",
   "metadata": {},
   "outputs": [
    {
     "data": {
      "text/latex": [
       "$\\displaystyle u{\\left(0,x \\right)} = \\sum_{n=1}^{\\infty} \\sin{\\left(\\frac{\\pi n x}{L} \\right)} {a}_{n}$"
      ],
      "text/plain": [
       "Eq(u(0, x), Sum(sin(pi*n*x/L)*a[n], (n, 1, oo)))"
      ]
     },
     "execution_count": 25,
     "metadata": {},
     "output_type": "execute_result"
    }
   ],
   "source": [
    "_.subs(t,0)"
   ]
  },
  {
   "cell_type": "code",
   "execution_count": 26,
   "id": "faefd98a",
   "metadata": {},
   "outputs": [
    {
     "data": {
      "text/latex": [
       "$\\displaystyle \\sum_{n=1}^{\\infty} \\sin{\\left(\\frac{\\pi n x}{L} \\right)} {a}_{n} = 100$"
      ],
      "text/plain": [
       "Eq(Sum(sin(pi*n*x/L)*a[n], (n, 1, oo)), 100)"
      ]
     },
     "execution_count": 26,
     "metadata": {},
     "output_type": "execute_result"
    }
   ],
   "source": [
    "Eq( _.rhs,100 )"
   ]
  },
  {
   "cell_type": "markdown",
   "id": "ef8d2196",
   "metadata": {},
   "source": [
    "We can solve for 𝑎_𝑛 by using the fact that the sines are orthogonal. So multiply both sides by a suitable sine and integrate:"
   ]
  },
  {
   "cell_type": "code",
   "execution_count": 27,
   "id": "c3bf1134",
   "metadata": {},
   "outputs": [
    {
     "data": {
      "text/latex": [
       "$\\displaystyle \\sum_{n=1}^{\\infty} \\int\\limits_{0}^{L} \\sin{\\left(\\frac{\\pi m x}{L} \\right)} \\sin{\\left(\\frac{\\pi n x}{L} \\right)} {a}_{n}\\, dx = \\int\\limits_{0}^{L} 100 \\sin{\\left(\\frac{\\pi m x}{L} \\right)}\\, dx$"
      ],
      "text/plain": [
       "Eq(Sum(Integral(sin(pi*m*x/L)*sin(pi*n*x/L)*a[n], (x, 0, L)), (n, 1, oo)), Integral(100*sin(pi*m*x/L), (x, 0, L)))"
      ]
     },
     "execution_count": 27,
     "metadata": {},
     "output_type": "execute_result"
    }
   ],
   "source": [
    "m = Symbol(\"m\", integer=True, positive=True)\n",
    "\n",
    "Eq( Sum( Integral(a[n]*sin(pi*n*x/L)*sin(pi*m*x/L), (x, 0, L)),(n, 1, oo)), Integral(100*sin(pi*m*x/L), (x, 0, L)))"
   ]
  },
  {
   "attachments": {},
   "cell_type": "markdown",
   "id": "20de4f3a",
   "metadata": {},
   "source": [
    "### THis is where the problem start!\n",
    "\n",
    "It does not simplify the $ sin(\\pi n) $ in the case of $ m \\neq n$ and the $ sin^2(\\pi n) $ and $ cos^2(\\pi n) $."
   ]
  },
  {
   "cell_type": "code",
   "execution_count": 28,
   "id": "bc51bc00",
   "metadata": {},
   "outputs": [
    {
     "data": {
      "text/latex": [
       "$\\displaystyle \\sum_{n=1}^{\\infty} \\begin{cases} - \\frac{\\left(-1\\right)^{m} L m \\sin{\\left(\\pi n \\right)} {a}_{n}}{\\pi m^{2} - \\pi n^{2}} & \\text{for}\\: m \\neq n \\\\\\left(\\frac{L \\sin^{2}{\\left(\\pi n \\right)}}{2} + \\frac{L \\cos^{2}{\\left(\\pi n \\right)}}{2} - \\frac{L \\sin{\\left(\\pi n \\right)} \\cos{\\left(\\pi n \\right)}}{2 \\pi n}\\right) {a}_{n} & \\text{otherwise} \\end{cases} = - \\frac{100 \\left(-1\\right)^{m} L}{\\pi m} + \\frac{100 L}{\\pi m}$"
      ],
      "text/plain": [
       "Eq(Sum(Piecewise((-(-1)**m*L*m*sin(pi*n)*a[n]/(pi*m**2 - pi*n**2), Ne(m, n)), ((L*sin(pi*n)**2/2 + L*cos(pi*n)**2/2 - L*sin(pi*n)*cos(pi*n)/(2*pi*n))*a[n], True)), (n, 1, oo)), -100*(-1)**m*L/(pi*m) + 100*L/(pi*m))"
      ]
     },
     "execution_count": 28,
     "metadata": {},
     "output_type": "execute_result"
    }
   ],
   "source": [
    "_.doit()"
   ]
  },
  {
   "attachments": {},
   "cell_type": "markdown",
   "id": "28c63337",
   "metadata": {},
   "source": [
    "### And here is the version of sympy"
   ]
  },
  {
   "cell_type": "code",
   "execution_count": 30,
   "id": "e48209b3",
   "metadata": {},
   "outputs": [
    {
     "data": {
      "text/plain": [
       "'1.11.1'"
      ]
     },
     "execution_count": 30,
     "metadata": {},
     "output_type": "execute_result"
    }
   ],
   "source": [
    "import sympy\n",
    "sympy.__version__"
   ]
  },
  {
   "attachments": {},
   "cell_type": "markdown",
   "id": "23c8dd6b",
   "metadata": {},
   "source": [
    "### The version of python is 3.10.10"
   ]
  },
  {
   "attachments": {},
   "cell_type": "markdown",
   "id": "7172ca6e",
   "metadata": {},
   "source": [
    "## The rest is for later."
   ]
  },
  {
   "cell_type": "markdown",
   "id": "28fda03f",
   "metadata": {},
   "source": [
    "The infinite sum on the left side has only one non-zero term, for which 𝑚=𝑛:"
   ]
  },
  {
   "cell_type": "code",
   "execution_count": null,
   "id": "22dbfee5",
   "metadata": {},
   "outputs": [],
   "source": []
  },
  {
   "cell_type": "code",
   "execution_count": null,
   "id": "552ba261",
   "metadata": {},
   "outputs": [],
   "source": [
    "solve(_, a[m])"
   ]
  },
  {
   "cell_type": "code",
   "execution_count": null,
   "id": "7d0458bc",
   "metadata": {},
   "outputs": [],
   "source": [
    "Eq(a[m], _[0])"
   ]
  },
  {
   "cell_type": "markdown",
   "id": "c8bda202",
   "metadata": {},
   "source": [
    "Now insert the values for the coefficients in our solution:"
   ]
  },
  {
   "cell_type": "code",
   "execution_count": null,
   "id": "48e5b201",
   "metadata": {},
   "outputs": [],
   "source": [
    "sol_u = sol_u.replace(a[n], _.rhs.subs(m,n))\n",
    "sol_u"
   ]
  },
  {
   "cell_type": "markdown",
   "id": "bac24473",
   "metadata": {},
   "source": [
    "And that is the exact solution to our problem.\n",
    "\n",
    "Finally, we can plot it. But of course, we have to cut off the series at some point. We will approximate the solution by the first 30 terms:"
   ]
  },
  {
   "cell_type": "code",
   "execution_count": null,
   "id": "283834ed",
   "metadata": {},
   "outputs": [],
   "source": [
    "sol_u_approx = Sum(sol_u.rhs.args[0], (n, 1, 30)).subs([L: 10,alpha: 1})\n",
    "sol_u_approx"
   ]
  },
  {
   "cell_type": "markdown",
   "id": "d83ff14d",
   "metadata": {},
   "source": [
    "Now we can plot the solution with the sympy plotting backends spb:\n"
   ]
  },
  {
   "cell_type": "code",
   "execution_count": null,
   "id": "25d31b9d",
   "metadata": {},
   "outputs": [],
   "source": [
    "from spb import *\n",
    "plot_contour(sol_u_approx, (x, 0, 10) , (t, 0, 8 ));"
   ]
  }
 ],
 "metadata": {
  "kernelspec": {
   "display_name": "Python 3",
   "language": "python",
   "name": "python3"
  },
  "language_info": {
   "codemirror_mode": {
    "name": "ipython",
    "version": 3
   },
   "file_extension": ".py",
   "mimetype": "text/x-python",
   "name": "python",
   "nbconvert_exporter": "python",
   "pygments_lexer": "ipython3",
   "version": "3.10.10"
  },
  "vscode": {
   "interpreter": {
    "hash": "706a7eb66341221f9f9a9abd7958ed5e6a512fe3731f272ffc19509b3625a4f7"
   }
  }
 },
 "nbformat": 4,
 "nbformat_minor": 5
}
